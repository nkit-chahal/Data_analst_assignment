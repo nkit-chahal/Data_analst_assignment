{
 "cells": [
  {
   "cell_type": "code",
   "execution_count": 1,
   "metadata": {},
   "outputs": [],
   "source": [
    "import numpy as np\n",
    "import pandas as pd\n",
    "\n",
    "df = pd.read_excel(r'C:\\Users\\ankit\\Desktop\\workings\\test\\Dataset (1).xlsx')"
   ]
  },
  {
   "cell_type": "code",
   "execution_count": 2,
   "metadata": {},
   "outputs": [
    {
     "data": {
      "text/html": [
       "<div>\n",
       "<style scoped>\n",
       "    .dataframe tbody tr th:only-of-type {\n",
       "        vertical-align: middle;\n",
       "    }\n",
       "\n",
       "    .dataframe tbody tr th {\n",
       "        vertical-align: top;\n",
       "    }\n",
       "\n",
       "    .dataframe thead th {\n",
       "        text-align: right;\n",
       "    }\n",
       "</style>\n",
       "<table border=\"1\" class=\"dataframe\">\n",
       "  <thead>\n",
       "    <tr style=\"text-align: right;\">\n",
       "      <th></th>\n",
       "      <th>Admin</th>\n",
       "      <th>Date</th>\n",
       "      <th>Time</th>\n",
       "      <th>Type</th>\n",
       "      <th>Client</th>\n",
       "      <th>Subject</th>\n",
       "      <th>Assigned to</th>\n",
       "      <th>Status</th>\n",
       "      <th>Reason</th>\n",
       "    </tr>\n",
       "  </thead>\n",
       "  <tbody>\n",
       "    <tr>\n",
       "      <th>0</th>\n",
       "      <td>M</td>\n",
       "      <td>2022-02-01</td>\n",
       "      <td>00:03:00</td>\n",
       "      <td>Session</td>\n",
       "      <td>colour green</td>\n",
       "      <td>Management</td>\n",
       "      <td>NaN</td>\n",
       "      <td>orange</td>\n",
       "      <td>Can't Do</td>\n",
       "    </tr>\n",
       "    <tr>\n",
       "      <th>1</th>\n",
       "      <td>Q</td>\n",
       "      <td>2022-02-01</td>\n",
       "      <td>00:03:00</td>\n",
       "      <td>Session</td>\n",
       "      <td>bhaag ja</td>\n",
       "      <td>Economics</td>\n",
       "      <td>NaN</td>\n",
       "      <td>orange</td>\n",
       "      <td>Less Price</td>\n",
       "    </tr>\n",
       "  </tbody>\n",
       "</table>\n",
       "</div>"
      ],
      "text/plain": [
       "  Admin       Date      Time      Type        Client     Subject Assigned to  \\\n",
       "0   M   2022-02-01  00:03:00  Session   colour green  Management         NaN   \n",
       "1     Q 2022-02-01  00:03:00  Session       bhaag ja   Economics         NaN   \n",
       "\n",
       "   Status      Reason  \n",
       "0  orange    Can't Do  \n",
       "1  orange  Less Price  "
      ]
     },
     "execution_count": 2,
     "metadata": {},
     "output_type": "execute_result"
    }
   ],
   "source": [
    "df.head(2)"
   ]
  },
  {
   "cell_type": "code",
   "execution_count": 3,
   "metadata": {},
   "outputs": [
    {
     "data": {
      "text/plain": [
       "array(['M  ', 'Q', 'R', 'V  ', 'W  ', 'G  ', 'Z  ', 'P', 'I  ', 'T  '],\n",
       "      dtype=object)"
      ]
     },
     "execution_count": 3,
     "metadata": {},
     "output_type": "execute_result"
    }
   ],
   "source": [
    "df.Admin.unique()"
   ]
  },
  {
   "cell_type": "code",
   "execution_count": 4,
   "metadata": {},
   "outputs": [
    {
     "data": {
      "text/plain": [
       "10"
      ]
     },
     "execution_count": 4,
     "metadata": {},
     "output_type": "execute_result"
    }
   ],
   "source": [
    "df.Admin.nunique()"
   ]
  },
  {
   "cell_type": "code",
   "execution_count": 5,
   "metadata": {},
   "outputs": [],
   "source": [
    "import matplotlib as plt\n",
    "import seaborn as sns\n",
    "sns.set()"
   ]
  },
  {
   "cell_type": "markdown",
   "metadata": {},
   "source": [
    "## 1st"
   ]
  },
  {
   "cell_type": "code",
   "execution_count": 6,
   "metadata": {},
   "outputs": [
    {
     "data": {
      "text/plain": [
       "<seaborn.axisgrid.FacetGrid at 0x16bd014bb80>"
      ]
     },
     "execution_count": 6,
     "metadata": {},
     "output_type": "execute_result"
    },
    {
     "data": {
      "image/png": "[encoded data removed]",
      "text/plain": [
       "<Figure size 360x360 with 1 Axes>"
      ]
     },
     "metadata": {},
     "output_type": "display_data"
    }
   ],
   "source": [
    "sns.catplot(x=\"Admin\", y=\"Status\", data=df)"
   ]
  },
  {
   "cell_type": "code",
   "execution_count": 7,
   "metadata": {},
   "outputs": [
    {
     "data": {
      "text/plain": [
       "Admin                  object\n",
       "Date           datetime64[ns]\n",
       "Time                   object\n",
       "Type                   object\n",
       "Client                 object\n",
       "Subject                object\n",
       "Assigned to            object\n",
       "Status                 object\n",
       "Reason                 object\n",
       "dtype: object"
      ]
     },
     "execution_count": 7,
     "metadata": {},
     "output_type": "execute_result"
    }
   ],
   "source": [
    "df.dtypes"
   ]
  },
  {
   "cell_type": "code",
   "execution_count": 8,
   "metadata": {},
   "outputs": [
    {
     "name": "stderr",
     "output_type": "stream",
     "text": [
      "C:\\Users\\ankit\\AppData\\Local\\Temp/ipykernel_5108/960121618.py:1: FutureWarning: The pandas.datetime class is deprecated and will be removed from pandas in a future version. Import from datetime module instead.\n",
      "  df[\"DATE\"] = df.apply(lambda r : pd.datetime.combine(r['Date'],r['Time']),1)\n"
     ]
    }
   ],
   "source": [
    "df[\"DATE\"] = df.apply(lambda r : pd.datetime.combine(r['Date'],r['Time']),1)"
   ]
  },
  {
   "cell_type": "code",
   "execution_count": 9,
   "metadata": {},
   "outputs": [
    {
     "data": {
      "text/html": [
       "<div>\n",
       "<style scoped>\n",
       "    .dataframe tbody tr th:only-of-type {\n",
       "        vertical-align: middle;\n",
       "    }\n",
       "\n",
       "    .dataframe tbody tr th {\n",
       "        vertical-align: top;\n",
       "    }\n",
       "\n",
       "    .dataframe thead th {\n",
       "        text-align: right;\n",
       "    }\n",
       "</style>\n",
       "<table border=\"1\" class=\"dataframe\">\n",
       "  <thead>\n",
       "    <tr style=\"text-align: right;\">\n",
       "      <th></th>\n",
       "      <th>Admin</th>\n",
       "      <th>Date</th>\n",
       "      <th>Time</th>\n",
       "      <th>Type</th>\n",
       "      <th>Client</th>\n",
       "      <th>Subject</th>\n",
       "      <th>Assigned to</th>\n",
       "      <th>Status</th>\n",
       "      <th>Reason</th>\n",
       "      <th>DATE</th>\n",
       "    </tr>\n",
       "  </thead>\n",
       "  <tbody>\n",
       "    <tr>\n",
       "      <th>0</th>\n",
       "      <td>M</td>\n",
       "      <td>2022-02-01</td>\n",
       "      <td>00:03:00</td>\n",
       "      <td>Session</td>\n",
       "      <td>colour green</td>\n",
       "      <td>Management</td>\n",
       "      <td>NaN</td>\n",
       "      <td>orange</td>\n",
       "      <td>Can't Do</td>\n",
       "      <td>2022-02-01 00:03:00</td>\n",
       "    </tr>\n",
       "    <tr>\n",
       "      <th>1</th>\n",
       "      <td>Q</td>\n",
       "      <td>2022-02-01</td>\n",
       "      <td>00:03:00</td>\n",
       "      <td>Session</td>\n",
       "      <td>bhaag ja</td>\n",
       "      <td>Economics</td>\n",
       "      <td>NaN</td>\n",
       "      <td>orange</td>\n",
       "      <td>Less Price</td>\n",
       "      <td>2022-02-01 00:03:00</td>\n",
       "    </tr>\n",
       "  </tbody>\n",
       "</table>\n",
       "</div>"
      ],
      "text/plain": [
       "  Admin       Date      Time      Type        Client     Subject Assigned to  \\\n",
       "0   M   2022-02-01  00:03:00  Session   colour green  Management         NaN   \n",
       "1     Q 2022-02-01  00:03:00  Session       bhaag ja   Economics         NaN   \n",
       "\n",
       "   Status      Reason                DATE  \n",
       "0  orange    Can't Do 2022-02-01 00:03:00  \n",
       "1  orange  Less Price 2022-02-01 00:03:00  "
      ]
     },
     "execution_count": 9,
     "metadata": {},
     "output_type": "execute_result"
    }
   ],
   "source": [
    "df.head(2)"
   ]
  },
  {
   "cell_type": "code",
   "execution_count": 10,
   "metadata": {},
   "outputs": [
    {
     "name": "stdout",
     "output_type": "stream",
     "text": [
      "<class 'pandas.core.frame.DataFrame'>\n",
      "RangeIndex: 5537 entries, 0 to 5536\n",
      "Data columns (total 10 columns):\n",
      " #   Column       Non-Null Count  Dtype         \n",
      "---  ------       --------------  -----         \n",
      " 0   Admin        5537 non-null   object        \n",
      " 1   Date         5537 non-null   datetime64[ns]\n",
      " 2   Time         5537 non-null   object        \n",
      " 3   Type         5537 non-null   object        \n",
      " 4   Client       5537 non-null   object        \n",
      " 5   Subject      5412 non-null   object        \n",
      " 6   Assigned to  2784 non-null   object        \n",
      " 7   Status       5537 non-null   object        \n",
      " 8   Reason       2959 non-null   object        \n",
      " 9   DATE         5537 non-null   datetime64[ns]\n",
      "dtypes: datetime64[ns](2), object(8)\n",
      "memory usage: 432.7+ KB\n"
     ]
    }
   ],
   "source": [
    "df.info()"
   ]
  },
  {
   "cell_type": "code",
   "execution_count": 13,
   "metadata": {},
   "outputs": [
    {
     "data": {
      "text/plain": [
       "DatetimeIndex(['2022-02-01', '2022-02-02', '2022-02-03', '2022-02-04',\n",
       "               '2022-02-05', '2022-02-06', '2022-02-07', '2022-02-08',\n",
       "               '2022-02-09', '2022-02-10', '2022-02-11', '2022-02-12',\n",
       "               '2022-02-13', '2022-02-14', '2022-02-15', '2022-02-16',\n",
       "               '2022-02-17', '2022-02-18', '2022-02-19', '2022-02-20',\n",
       "               '2022-02-21', '2022-02-22', '2022-02-23', '2022-02-24',\n",
       "               '2022-02-25', '2022-02-26', '2022-02-27', '2022-02-28'],\n",
       "              dtype='datetime64[ns]', freq='D')"
      ]
     },
     "execution_count": 13,
     "metadata": {},
     "output_type": "execute_result"
    }
   ],
   "source": [
    "pd.date_range(start=\"2022-02-01\",\n",
    "                  end=\"2022-02-28\")"
   ]
  },
  {
   "cell_type": "code",
   "execution_count": 14,
   "metadata": {},
   "outputs": [],
   "source": [
    "mask = (df['Date'] > '2022-02-01') & (df['Date'] <= '2022-02-28')\n"
   ]
  },
  {
   "cell_type": "code",
   "execution_count": 37,
   "metadata": {},
   "outputs": [],
   "source": [
    "# Select the rows between two dates\n",
    "in_range_df = df[df[\"Date\"].isin(pd.date_range(\"2022-02-01\", \"2022-02-28\"))]\n",
    "\n",
    "feb_df = in_range_df[in_range_df['Status'] == 'complete']\n"
   ]
  },
  {
   "cell_type": "markdown",
   "metadata": {},
   "source": [
    "## 2nd"
   ]
  },
  {
   "cell_type": "code",
   "execution_count": 38,
   "metadata": {},
   "outputs": [
    {
     "data": {
      "text/html": [
       "<div>\n",
       "<style scoped>\n",
       "    .dataframe tbody tr th:only-of-type {\n",
       "        vertical-align: middle;\n",
       "    }\n",
       "\n",
       "    .dataframe tbody tr th {\n",
       "        vertical-align: top;\n",
       "    }\n",
       "\n",
       "    .dataframe thead th {\n",
       "        text-align: right;\n",
       "    }\n",
       "</style>\n",
       "<table border=\"1\" class=\"dataframe\">\n",
       "  <thead>\n",
       "    <tr style=\"text-align: right;\">\n",
       "      <th></th>\n",
       "      <th>Admin</th>\n",
       "      <th>Date</th>\n",
       "      <th>Time</th>\n",
       "      <th>Type</th>\n",
       "      <th>Client</th>\n",
       "      <th>Subject</th>\n",
       "      <th>Assigned to</th>\n",
       "      <th>Status</th>\n",
       "      <th>Reason</th>\n",
       "      <th>DATE</th>\n",
       "    </tr>\n",
       "  </thead>\n",
       "  <tbody>\n",
       "    <tr>\n",
       "      <th>2</th>\n",
       "      <td>Q</td>\n",
       "      <td>2022-02-01</td>\n",
       "      <td>01:00:00</td>\n",
       "      <td>Assignment</td>\n",
       "      <td>woofer baja</td>\n",
       "      <td>Fluid Mechanics</td>\n",
       "      <td>NITIN KUMAR(1934),</td>\n",
       "      <td>complete</td>\n",
       "      <td>NaN</td>\n",
       "      <td>2022-02-01 01:00:00</td>\n",
       "    </tr>\n",
       "    <tr>\n",
       "      <th>3</th>\n",
       "      <td>Q</td>\n",
       "      <td>2022-02-01</td>\n",
       "      <td>01:00:00</td>\n",
       "      <td>Assignment</td>\n",
       "      <td>samne</td>\n",
       "      <td>Energy Systems</td>\n",
       "      <td>shubham kumar kumawat(11310),</td>\n",
       "      <td>complete</td>\n",
       "      <td>NaN</td>\n",
       "      <td>2022-02-01 01:00:00</td>\n",
       "    </tr>\n",
       "    <tr>\n",
       "      <th>4</th>\n",
       "      <td>R</td>\n",
       "      <td>2022-02-01</td>\n",
       "      <td>02:00:00</td>\n",
       "      <td>Assignment</td>\n",
       "      <td>busio</td>\n",
       "      <td>C/C++</td>\n",
       "      <td>Tejas Chari(4351),</td>\n",
       "      <td>complete</td>\n",
       "      <td>NaN</td>\n",
       "      <td>2022-02-01 02:00:00</td>\n",
       "    </tr>\n",
       "    <tr>\n",
       "      <th>7</th>\n",
       "      <td>W</td>\n",
       "      <td>2022-02-01</td>\n",
       "      <td>02:30:00</td>\n",
       "      <td>Assignment</td>\n",
       "      <td>ltavarez12134</td>\n",
       "      <td>Java</td>\n",
       "      <td>Kundan Kumar(8709),</td>\n",
       "      <td>complete</td>\n",
       "      <td>NaN</td>\n",
       "      <td>2022-02-01 02:30:00</td>\n",
       "    </tr>\n",
       "    <tr>\n",
       "      <th>9</th>\n",
       "      <td>W</td>\n",
       "      <td>2022-02-01</td>\n",
       "      <td>03:00:00</td>\n",
       "      <td>Assignment</td>\n",
       "      <td>ccfmogo12</td>\n",
       "      <td>C/C++</td>\n",
       "      <td>Shivam Pandey(15938),</td>\n",
       "      <td>complete</td>\n",
       "      <td>NaN</td>\n",
       "      <td>2022-02-01 03:00:00</td>\n",
       "    </tr>\n",
       "    <tr>\n",
       "      <th>...</th>\n",
       "      <td>...</td>\n",
       "      <td>...</td>\n",
       "      <td>...</td>\n",
       "      <td>...</td>\n",
       "      <td>...</td>\n",
       "      <td>...</td>\n",
       "      <td>...</td>\n",
       "      <td>...</td>\n",
       "      <td>...</td>\n",
       "      <td>...</td>\n",
       "    </tr>\n",
       "    <tr>\n",
       "      <th>4858</th>\n",
       "      <td>V</td>\n",
       "      <td>2022-02-28</td>\n",
       "      <td>23:00:00</td>\n",
       "      <td>Assignment</td>\n",
       "      <td>black sand</td>\n",
       "      <td>Lab Report (EE/ECE)</td>\n",
       "      <td>Puspendu Gayen(4760),</td>\n",
       "      <td>complete</td>\n",
       "      <td>NaN</td>\n",
       "      <td>2022-02-28 23:00:00</td>\n",
       "    </tr>\n",
       "    <tr>\n",
       "      <th>4861</th>\n",
       "      <td>W</td>\n",
       "      <td>2022-02-28</td>\n",
       "      <td>23:00:00</td>\n",
       "      <td>Assignment</td>\n",
       "      <td>rynl2009-web</td>\n",
       "      <td>Civil Engineering</td>\n",
       "      <td>Swapnil Mahadev Dhobale(12946),</td>\n",
       "      <td>complete</td>\n",
       "      <td>NaN</td>\n",
       "      <td>2022-02-28 23:00:00</td>\n",
       "    </tr>\n",
       "    <tr>\n",
       "      <th>4862</th>\n",
       "      <td>P</td>\n",
       "      <td>2022-02-28</td>\n",
       "      <td>23:00:00</td>\n",
       "      <td>Assignment</td>\n",
       "      <td>finish</td>\n",
       "      <td>Writing (Essay/Summary)</td>\n",
       "      <td>Abhishek kumar(4938),</td>\n",
       "      <td>complete</td>\n",
       "      <td>NaN</td>\n",
       "      <td>2022-02-28 23:00:00</td>\n",
       "    </tr>\n",
       "    <tr>\n",
       "      <th>4865</th>\n",
       "      <td>W</td>\n",
       "      <td>2022-02-28</td>\n",
       "      <td>23:30:00</td>\n",
       "      <td>Assignment</td>\n",
       "      <td>mpirolli1968@gmail.com-web</td>\n",
       "      <td>Mathematics</td>\n",
       "      <td>Nishant(4976),</td>\n",
       "      <td>complete</td>\n",
       "      <td>NaN</td>\n",
       "      <td>2022-02-28 23:30:00</td>\n",
       "    </tr>\n",
       "    <tr>\n",
       "      <th>4866</th>\n",
       "      <td>W</td>\n",
       "      <td>2022-02-28</td>\n",
       "      <td>23:30:00</td>\n",
       "      <td>Assignment</td>\n",
       "      <td>declan-bee-web</td>\n",
       "      <td>Mathematics</td>\n",
       "      <td>MANNU KUMAR GADDHYAN(10585),</td>\n",
       "      <td>complete</td>\n",
       "      <td>NaN</td>\n",
       "      <td>2022-02-28 23:30:00</td>\n",
       "    </tr>\n",
       "  </tbody>\n",
       "</table>\n",
       "<p>2247 rows × 10 columns</p>\n",
       "</div>"
      ],
      "text/plain": [
       "     Admin       Date      Time        Type                      Client  \\\n",
       "2        Q 2022-02-01  01:00:00  Assignment                 woofer baja   \n",
       "3        Q 2022-02-01  01:00:00  Assignment                       samne   \n",
       "4        R 2022-02-01  02:00:00  Assignment                       busio   \n",
       "7      W   2022-02-01  02:30:00  Assignment               ltavarez12134   \n",
       "9      W   2022-02-01  03:00:00  Assignment                   ccfmogo12   \n",
       "...    ...        ...       ...         ...                         ...   \n",
       "4858   V   2022-02-28  23:00:00  Assignment                  black sand   \n",
       "4861   W   2022-02-28  23:00:00  Assignment                rynl2009-web   \n",
       "4862     P 2022-02-28  23:00:00  Assignment                      finish   \n",
       "4865   W   2022-02-28  23:30:00  Assignment  mpirolli1968@gmail.com-web   \n",
       "4866   W   2022-02-28  23:30:00  Assignment              declan-bee-web   \n",
       "\n",
       "                      Subject                       Assigned to    Status  \\\n",
       "2             Fluid Mechanics               NITIN KUMAR(1934),   complete   \n",
       "3              Energy Systems    shubham kumar kumawat(11310),   complete   \n",
       "4                       C/C++               Tejas Chari(4351),   complete   \n",
       "7                        Java              Kundan Kumar(8709),   complete   \n",
       "9                       C/C++            Shivam Pandey(15938),   complete   \n",
       "...                       ...                               ...       ...   \n",
       "4858      Lab Report (EE/ECE)            Puspendu Gayen(4760),   complete   \n",
       "4861        Civil Engineering  Swapnil Mahadev Dhobale(12946),   complete   \n",
       "4862  Writing (Essay/Summary)            Abhishek kumar(4938),   complete   \n",
       "4865              Mathematics                   Nishant(4976),   complete   \n",
       "4866              Mathematics     MANNU KUMAR GADDHYAN(10585),   complete   \n",
       "\n",
       "     Reason                DATE  \n",
       "2       NaN 2022-02-01 01:00:00  \n",
       "3       NaN 2022-02-01 01:00:00  \n",
       "4       NaN 2022-02-01 02:00:00  \n",
       "7       NaN 2022-02-01 02:30:00  \n",
       "9       NaN 2022-02-01 03:00:00  \n",
       "...     ...                 ...  \n",
       "4858    NaN 2022-02-28 23:00:00  \n",
       "4861    NaN 2022-02-28 23:00:00  \n",
       "4862    NaN 2022-02-28 23:00:00  \n",
       "4865    NaN 2022-02-28 23:30:00  \n",
       "4866    NaN 2022-02-28 23:30:00  \n",
       "\n",
       "[2247 rows x 10 columns]"
      ]
     },
     "execution_count": 38,
     "metadata": {},
     "output_type": "execute_result"
    }
   ],
   "source": [
    "feb_df"
   ]
  },
  {
   "cell_type": "markdown",
   "metadata": {},
   "source": [
    "## 3rd"
   ]
  },
  {
   "cell_type": "code",
   "execution_count": 32,
   "metadata": {},
   "outputs": [
    {
     "name": "stdout",
     "output_type": "stream",
     "text": [
      "Physics                                      35\n",
      "Electronics and Communication Engineering    30\n",
      "Thermodynamics                               29\n",
      "Name: Subject, dtype: int64\n"
     ]
    }
   ],
   "source": [
    "march_df = df[df[\"Date\"].isin(pd.date_range(\"2022-03-01\", \"2022-03-31\"))]\n",
    "\n",
    "print(march_df['Subject'].value_counts().head(3))"
   ]
  },
  {
   "cell_type": "code",
   "execution_count": 33,
   "metadata": {},
   "outputs": [],
   "source": [
    "compelte_status = df[df['Status'] == 'complete']"
   ]
  },
  {
   "cell_type": "markdown",
   "metadata": {},
   "source": [
    "## 4th"
   ]
  },
  {
   "cell_type": "code",
   "execution_count": 34,
   "metadata": {},
   "outputs": [
    {
     "data": {
      "text/html": [
       "<div>\n",
       "<style scoped>\n",
       "    .dataframe tbody tr th:only-of-type {\n",
       "        vertical-align: middle;\n",
       "    }\n",
       "\n",
       "    .dataframe tbody tr th {\n",
       "        vertical-align: top;\n",
       "    }\n",
       "\n",
       "    .dataframe thead th {\n",
       "        text-align: right;\n",
       "    }\n",
       "</style>\n",
       "<table border=\"1\" class=\"dataframe\">\n",
       "  <thead>\n",
       "    <tr style=\"text-align: right;\">\n",
       "      <th></th>\n",
       "      <th>Admin</th>\n",
       "      <th>Date</th>\n",
       "      <th>Time</th>\n",
       "      <th>Type</th>\n",
       "      <th>Client</th>\n",
       "      <th>Subject</th>\n",
       "      <th>Assigned to</th>\n",
       "      <th>Status</th>\n",
       "      <th>Reason</th>\n",
       "      <th>DATE</th>\n",
       "    </tr>\n",
       "  </thead>\n",
       "  <tbody>\n",
       "    <tr>\n",
       "      <th>2</th>\n",
       "      <td>Q</td>\n",
       "      <td>2022-02-01</td>\n",
       "      <td>01:00:00</td>\n",
       "      <td>Assignment</td>\n",
       "      <td>woofer baja</td>\n",
       "      <td>Fluid Mechanics</td>\n",
       "      <td>NITIN KUMAR(1934),</td>\n",
       "      <td>complete</td>\n",
       "      <td>NaN</td>\n",
       "      <td>2022-02-01 01:00:00</td>\n",
       "    </tr>\n",
       "    <tr>\n",
       "      <th>3</th>\n",
       "      <td>Q</td>\n",
       "      <td>2022-02-01</td>\n",
       "      <td>01:00:00</td>\n",
       "      <td>Assignment</td>\n",
       "      <td>samne</td>\n",
       "      <td>Energy Systems</td>\n",
       "      <td>shubham kumar kumawat(11310),</td>\n",
       "      <td>complete</td>\n",
       "      <td>NaN</td>\n",
       "      <td>2022-02-01 01:00:00</td>\n",
       "    </tr>\n",
       "  </tbody>\n",
       "</table>\n",
       "</div>"
      ],
      "text/plain": [
       "  Admin       Date      Time        Type       Client          Subject  \\\n",
       "2     Q 2022-02-01  01:00:00  Assignment  woofer baja  Fluid Mechanics   \n",
       "3     Q 2022-02-01  01:00:00  Assignment        samne   Energy Systems   \n",
       "\n",
       "                      Assigned to    Status Reason                DATE  \n",
       "2             NITIN KUMAR(1934),   complete    NaN 2022-02-01 01:00:00  \n",
       "3  shubham kumar kumawat(11310),   complete    NaN 2022-02-01 01:00:00  "
      ]
     },
     "execution_count": 34,
     "metadata": {},
     "output_type": "execute_result"
    }
   ],
   "source": [
    "compelte_status.head(2)"
   ]
  },
  {
   "cell_type": "code",
   "execution_count": 36,
   "metadata": {},
   "outputs": [
    {
     "name": "stdout",
     "output_type": "stream",
     "text": [
      "GOWTHAM(4479),          69\n",
      "Rahul kansal(1176),     48\n",
      "John Basil(4135),       43\n",
      "Name: Assigned to, dtype: int64\n"
     ]
    }
   ],
   "source": [
    "print(compelte_status['Assigned to'].value_counts().head(3))"
   ]
  },
  {
   "cell_type": "markdown",
   "metadata": {},
   "source": [
    "## 5th"
   ]
  },
  {
   "cell_type": "code",
   "execution_count": 42,
   "metadata": {},
   "outputs": [
    {
     "name": "stdout",
     "output_type": "stream",
     "text": [
      "PRIYA BAJPAI(375),        12\n",
      "PRASHANT GUPTA(2013),      7\n",
      "NITIN KUMAR(1934),         6\n",
      "Name: Assigned to, dtype: int64\n"
     ]
    }
   ],
   "source": [
    "compelte_thermo = feb_df[feb_df['Subject'] == 'Thermodynamics']\n",
    "print(compelte_thermo['Assigned to'].value_counts().head(3))"
   ]
  },
  {
   "cell_type": "code",
   "execution_count": null,
   "metadata": {},
   "outputs": [],
   "source": []
  }
 ],
 "metadata": {
  "interpreter": {
   "hash": "b3ba2566441a7c06988d0923437866b63cedc61552a5af99d1f4fb67d367b25f"
  },
  "kernelspec": {
   "display_name": "Python 3.9.7 ('base')",
   "language": "python",
   "name": "python3"
  },
  "language_info": {
   "codemirror_mode": {
    "name": "ipython",
    "version": 3
   },
   "file_extension": ".py",
   "mimetype": "text/x-python",
   "name": "python",
   "nbconvert_exporter": "python",
   "pygments_lexer": "ipython3",
   "version": "3.9.7"
  },
  "orig_nbformat": 4
 },
 "nbformat": 4,
 "nbformat_minor": 2
}
